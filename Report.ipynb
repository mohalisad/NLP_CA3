{
 "cells": [
  {
   "cell_type": "code",
   "execution_count": 1,
   "id": "c5e3f02f-70f0-41db-b538-153dafba8e15",
   "metadata": {},
   "outputs": [],
   "source": [
    "# pip install transformers accelerate tokenizers datasets\n",
    "# pip install hazm"
   ]
  },
  {
   "cell_type": "code",
   "execution_count": 2,
   "id": "f99820a0-5a81-4a25-ae69-1216bb6f3c33",
   "metadata": {},
   "outputs": [
    {
     "data": {
      "text/html": [
       "<link href=\"https://v1.fontapi.ir/css/Vazir\" rel=\"stylesheet\">\n",
       "<link rel=\"stylesheet\" href=\"style.css\">\n"
      ],
      "text/plain": [
       "<IPython.core.display.HTML object>"
      ]
     },
     "metadata": {},
     "output_type": "display_data"
    }
   ],
   "source": [
    "%%html\n",
    "<link href=\"https://v1.fontapi.ir/css/Vazir\" rel=\"stylesheet\">\n",
    "<link rel=\"stylesheet\" href=\"style.css\">"
   ]
  },
  {
   "cell_type": "markdown",
   "id": "e4df7d0b-5528-4828-bcf2-965000915e91",
   "metadata": {},
   "source": [
    "# <div class=\"farsi center\">بسم الله الرحمن الرحیم</div>"
   ]
  },
  {
   "cell_type": "code",
   "execution_count": 3,
   "id": "e034d844-3107-4768-a0a9-2993e67b9422",
   "metadata": {},
   "outputs": [],
   "source": [
    "import typing\n",
    "import copy"
   ]
  },
  {
   "cell_type": "code",
   "execution_count": 4,
   "id": "a3706fa3-9910-47a2-9ac3-a0b4b1f4afb1",
   "metadata": {},
   "outputs": [],
   "source": [
    "TRAIN_TOKENIZERS = False\n",
    "\n",
    "WORD_TOKENIZER_FILE_NAME = './wtoken.json'\n",
    "BPE_TOKENIZER_FILE_NAME = './bpetoken.json'\n",
    "\n",
    "BPE_VOCAB_SIZE = 10000\n",
    "WORD_LEVEL_VOCAB_SIZE = 5000\n",
    "\n",
    "UNK_TOKEN = \"[UNK]\"\n",
    "PAD_TOKEN = \"[PAD]\"\n",
    "SOS_TOKEN = \"[SOS]\"\n",
    "EOS_TOKEN = \"[EOS]\"\n",
    "ALL_TOKENS = [UNK_TOKEN, SOS_TOKEN, EOS_TOKEN, PAD_TOKEN]\n",
    "\n",
    "ALL_TRAINING_DATA = [\n",
    "    './cultural.txt',\n",
    "    './economics.txt',\n",
    "    './politics.txt',\n",
    "    './sports.txt'\n",
    "]\n",
    "\n",
    "LM_TRAINING_DATA = ['./t.txt'] #ALL_TRAINING_DATA[:1]"
   ]
  },
  {
   "cell_type": "markdown",
   "id": "e2d8b42c-ec71-4ddb-b133-ab5112ae9334",
   "metadata": {},
   "source": [
    "# <div class=\"green\">Tokenization</div>"
   ]
  },
  {
   "cell_type": "code",
   "execution_count": 5,
   "id": "9b5756da-c25b-40eb-aede-4b0749138806",
   "metadata": {},
   "outputs": [],
   "source": [
    "from tokenizers import Tokenizer\n",
    "from tokenizers.pre_tokenizers import Whitespace\n",
    "from tokenizers.models import WordLevel, BPE\n",
    "from tokenizers.trainers import WordLevelTrainer, BpeTrainer\n",
    "from tokenizers.processors import TemplateProcessing"
   ]
  },
  {
   "cell_type": "markdown",
   "id": "decb85c4-d005-4583-8ccb-f8e066c218f0",
   "metadata": {},
   "source": [
    "## <span class=\"blue\">Word Tokenizer</span>"
   ]
  },
  {
   "cell_type": "code",
   "execution_count": 6,
   "id": "40d0860e-f7ef-41cb-912f-94bdee2531fe",
   "metadata": {},
   "outputs": [],
   "source": [
    "if TRAIN_TOKENIZERS:\n",
    "    word_tokenizer = Tokenizer(WordLevel(unk_token=UNK_TOKEN))\n",
    "    word_tokenizer.pre_tokenizer = Whitespace()\n",
    "    word_trainer = WordLevelTrainer(vocab_size=WORD_LEVEL_VOCAB_SIZE, special_tokens=ALL_TOKENS)\n",
    "    word_tokenizer.train(ALL_TRAINING_DATA, word_trainer)\n",
    "    word_tokenizer.enable_padding(pad_token=PAD_TOKEN)\n",
    "    word_tokenizer.save(WORD_TOKENIZER_FILE_NAME)\n",
    "else:\n",
    "    word_tokenizer = Tokenizer.from_file(WORD_TOKENIZER_FILE_NAME)"
   ]
  },
  {
   "cell_type": "markdown",
   "id": "0121ec9f-fcac-47ce-8b6c-d0383ea54a70",
   "metadata": {},
   "source": [
    "## <span class=\"blue\">BPE Tokenizer</span>"
   ]
  },
  {
   "cell_type": "code",
   "execution_count": 7,
   "id": "8b6f3563-2d22-44f6-b4ea-3d134616abf5",
   "metadata": {},
   "outputs": [],
   "source": [
    "if TRAIN_TOKENIZERS:\n",
    "    bpe_tokenizer = Tokenizer(BPE(unk_token=UNK_TOKEN))\n",
    "    bpe_tokenizer.pre_tokenizer = Whitespace()\n",
    "    bpe_trainer = BpeTrainer(vocab_size=BPE_VOCAB_SIZE, special_tokens=ALL_TOKENS)\n",
    "    bpe_tokenizer.train(ALL_TRAINING_DATA, bpe_trainer)\n",
    "    bpe_tokenizer.enable_padding(pad_token=PAD_TOKEN)\n",
    "    bpe_tokenizer.save(BPE_TOKENIZER_FILE_NAME)\n",
    "else:\n",
    "    bpe_tokenizer = Tokenizer.from_file(BPE_TOKENIZER_FILE_NAME)"
   ]
  },
  {
   "cell_type": "markdown",
   "id": "76fb9736-3017-47ec-9b2d-5d6988ace805",
   "metadata": {},
   "source": [
    "## <span class=\"blue\">Post Processing</span>"
   ]
  },
  {
   "cell_type": "code",
   "execution_count": 8,
   "id": "d1aa36fb-f760-4af8-82d3-3b02db1052ed",
   "metadata": {},
   "outputs": [],
   "source": [
    "def add_post_processor_to(tokenizer: Tokenizer):\n",
    "    tokenizer.post_processor = TemplateProcessing(\n",
    "        single=f\"{SOS_TOKEN} $0 {EOS_TOKEN}\",\n",
    "        special_tokens=[\n",
    "            (X, tokenizer.token_to_id(X)) for X in [SOS_TOKEN, EOS_TOKEN]\n",
    "        ]\n",
    "    )\n",
    "add_post_processor_to(word_tokenizer)\n",
    "add_post_processor_to(bpe_tokenizer)"
   ]
  },
  {
   "cell_type": "markdown",
   "id": "f0daaf47-bb95-412e-8501-dc36f3b417fa",
   "metadata": {},
   "source": [
    "## <div class=\"blue right farsi\">تست عملکرد توکنایزیشن</div>"
   ]
  },
  {
   "cell_type": "code",
   "execution_count": 9,
   "id": "20774489-e00a-42be-8178-3b515f954da8",
   "metadata": {},
   "outputs": [
    {
     "name": "stdout",
     "output_type": "stream",
     "text": [
      "Word Tokenizer: ['[SOS]', 'سلاااااام', 'حالت', 'خوب', 'است', '؟', '[EOS]']\n",
      "BPE Tokenizer: ['[SOS]', 'س', 'لا', 'ا', 'ا', 'ا', 'ا', 'ام', 'حالت', 'خوب', 'است', '؟', '[EOS]']\n"
     ]
    }
   ],
   "source": [
    "sample = 'سلاااااام حالت خوب است؟'\n",
    "print(f'Word Tokenizer: {word_tokenizer.encode(sample).tokens}')\n",
    "print(f'BPE Tokenizer: {bpe_tokenizer.encode(sample).tokens}')"
   ]
  },
  {
   "cell_type": "markdown",
   "id": "a315aa86-b26b-4b0e-bd06-1068251623e2",
   "metadata": {},
   "source": [
    "# <div class=\"green\">Preparing Data For LM</div>"
   ]
  },
  {
   "cell_type": "code",
   "execution_count": 10,
   "id": "00aff8b7-cfa0-49c6-9976-7eac29c311a4",
   "metadata": {},
   "outputs": [],
   "source": [
    "from torch.utils.data import Dataset\n",
    "\n",
    "class TextDataset(Dataset):\n",
    "    def __init__(self, corpus_files):\n",
    "        dataset_lines = []\n",
    "\n",
    "        for file_name in LM_TRAINING_DATA:\n",
    "            with open(file_name, 'r') as f:\n",
    "                dataset_lines += f.readlines()\n",
    "        dataset_lines = [line.strip() for line in dataset_lines]\n",
    "                \n",
    "        self.__lines = dataset_lines\n",
    "        self.__tokenizer = None\n",
    "        self.__tokenizer_args = None\n",
    "        \n",
    "    def __len__(self):\n",
    "        return len(self.__lines)\n",
    "    \n",
    "    def __getitem__(self, idx):\n",
    "        if self.__tokenizer is None:\n",
    "            return self.__lines[idx]\n",
    "        else:\n",
    "            return self.__tokenizer(self.__lines[idx], **self.__tokenizer_args)\n",
    "    \n",
    "    def set_tokenizer(self, tokenizer, **tokenizer_args):\n",
    "        self.__tokenizer = tokenizer\n",
    "        self.__tokenizer_args = tokenizer_args\n"
   ]
  },
  {
   "cell_type": "code",
   "execution_count": 11,
   "id": "560bef30-2bce-48d3-af06-640e7ab484e0",
   "metadata": {},
   "outputs": [
    {
     "data": {
      "text/plain": [
       "'به صنوف سینمایی سر بزنید!'"
      ]
     },
     "execution_count": 11,
     "metadata": {},
     "output_type": "execute_result"
    }
   ],
   "source": [
    "dataset = TextDataset(LM_TRAINING_DATA)\n",
    "dataset[1]"
   ]
  },
  {
   "cell_type": "markdown",
   "id": "35184766-65c9-46e5-88db-8d4f77e06da2",
   "metadata": {},
   "source": [
    "# <div class=\"green\">Transformer LM</div>"
   ]
  },
  {
   "cell_type": "code",
   "execution_count": 12,
   "id": "cb883b92-afb8-4066-bc44-2673d53598ab",
   "metadata": {},
   "outputs": [],
   "source": [
    "TRANSFORMER_EPOCHS = 300\n",
    "MAX_LENGTH = 128"
   ]
  },
  {
   "cell_type": "code",
   "execution_count": 13,
   "id": "07e6cfd3-4237-4cc9-8ea4-5a8e1314c88a",
   "metadata": {},
   "outputs": [],
   "source": [
    "from transformers import (\n",
    "    PreTrainedModel,\n",
    "    GPT2Config,\n",
    "    GPT2LMHeadModel,\n",
    "    Trainer,\n",
    "    TrainingArguments,\n",
    "    DataCollatorForLanguageModeling,\n",
    "    PreTrainedTokenizerFast,\n",
    "#     LineByLineTextDataset, #REMOVE THIS\n",
    ")"
   ]
  },
  {
   "cell_type": "code",
   "execution_count": 14,
   "id": "9ab90984-8380-42f0-adfd-babc7b2306df",
   "metadata": {},
   "outputs": [],
   "source": [
    "def create_gpt_model(dataset: Dataset, tokenizer: Tokenizer) -> typing.Tuple[PreTrainedModel, Trainer]:\n",
    "    fast_tokenizer = PreTrainedTokenizerFast(tokenizer_object=tokenizer)\n",
    "    fast_tokenizer.add_special_tokens({'pad_token': '[PAD]'})\n",
    "    \n",
    "    prepared_dataset = copy.copy(dataset)\n",
    "    prepared_dataset.set_tokenizer(fast_tokenizer, padding='max_length', truncation='longest_first', return_tensors=\"pt\", max_length=MAX_LENGTH)\n",
    "        \n",
    "    config = GPT2Config(vocab_size=WORD_LEVEL_VOCAB_SIZE, n_layer=4, n_embd=240, n_positions=MAX_LENGTH)\n",
    "    model = GPT2LMHeadModel(config)\n",
    "    data_collator = DataCollatorForLanguageModeling(\n",
    "        tokenizer=fast_tokenizer, mlm=False\n",
    "    )\n",
    "    training_args = TrainingArguments(\n",
    "        output_dir=\"./GPT2\",\n",
    "#         save_strategy='no',\n",
    "        overwrite_output_dir=True,\n",
    "        num_train_epochs=TRANSFORMER_EPOCHS,\n",
    "        save_steps=10_000,\n",
    "        save_total_limit=2,\n",
    "        logging_steps=10_000,\n",
    "        prediction_loss_only=True,\n",
    "    )\n",
    "\n",
    "    trainer = Trainer(\n",
    "        model=model,\n",
    "        args=training_args,\n",
    "        data_collator=data_collator,\n",
    "        train_dataset=prepared_dataset\n",
    "    )\n",
    "    return model, trainer"
   ]
  },
  {
   "cell_type": "code",
   "execution_count": 15,
   "id": "57ddd7ce-d404-45fa-97cd-a2671123b685",
   "metadata": {},
   "outputs": [
    {
     "name": "stdout",
     "output_type": "stream",
     "text": [
      "4008480\n"
     ]
    }
   ],
   "source": [
    "model, trainer = create_gpt_model(dataset, word_tokenizer)\n",
    "print(model.num_parameters())"
   ]
  },
  {
   "cell_type": "code",
   "execution_count": 16,
   "id": "995372a4-0c65-497e-ae4a-65f1a5c7c545",
   "metadata": {},
   "outputs": [
    {
     "name": "stderr",
     "output_type": "stream",
     "text": [
      "***** Running training *****\n",
      "  Num examples = 40000\n",
      "  Num Epochs = 300\n",
      "  Instantaneous batch size per device = 8\n",
      "  Total train batch size (w. parallel, distributed & accumulation) = 8\n",
      "  Gradient Accumulation steps = 1\n",
      "  Total optimization steps = 1500000\n"
     ]
    },
    {
     "data": {
      "text/html": [
       "\n",
       "    <div>\n",
       "      \n",
       "      <progress value='12774' max='1500000' style='width:300px; height:20px; vertical-align: middle;'></progress>\n",
       "      [  12774/1500000 05:46 < 11:12:12, 36.87 it/s, Epoch 2.55/300]\n",
       "    </div>\n",
       "    <table border=\"1\" class=\"dataframe\">\n",
       "  <thead>\n",
       "    <tr style=\"text-align: left;\">\n",
       "      <th>Step</th>\n",
       "      <th>Training Loss</th>\n",
       "    </tr>\n",
       "  </thead>\n",
       "  <tbody>\n",
       "    <tr>\n",
       "      <td>200</td>\n",
       "      <td>6.906000</td>\n",
       "    </tr>\n",
       "    <tr>\n",
       "      <td>400</td>\n",
       "      <td>6.011400</td>\n",
       "    </tr>\n",
       "    <tr>\n",
       "      <td>600</td>\n",
       "      <td>5.856200</td>\n",
       "    </tr>\n",
       "    <tr>\n",
       "      <td>800</td>\n",
       "      <td>5.740100</td>\n",
       "    </tr>\n",
       "    <tr>\n",
       "      <td>1000</td>\n",
       "      <td>5.690600</td>\n",
       "    </tr>\n",
       "    <tr>\n",
       "      <td>1200</td>\n",
       "      <td>5.626800</td>\n",
       "    </tr>\n",
       "    <tr>\n",
       "      <td>1400</td>\n",
       "      <td>5.571000</td>\n",
       "    </tr>\n",
       "    <tr>\n",
       "      <td>1600</td>\n",
       "      <td>5.541300</td>\n",
       "    </tr>\n",
       "    <tr>\n",
       "      <td>1800</td>\n",
       "      <td>5.489000</td>\n",
       "    </tr>\n",
       "    <tr>\n",
       "      <td>2000</td>\n",
       "      <td>5.443400</td>\n",
       "    </tr>\n",
       "    <tr>\n",
       "      <td>2200</td>\n",
       "      <td>5.441100</td>\n",
       "    </tr>\n",
       "    <tr>\n",
       "      <td>2400</td>\n",
       "      <td>5.418700</td>\n",
       "    </tr>\n",
       "    <tr>\n",
       "      <td>2600</td>\n",
       "      <td>5.386500</td>\n",
       "    </tr>\n",
       "    <tr>\n",
       "      <td>2800</td>\n",
       "      <td>5.339900</td>\n",
       "    </tr>\n",
       "    <tr>\n",
       "      <td>3000</td>\n",
       "      <td>5.307800</td>\n",
       "    </tr>\n",
       "    <tr>\n",
       "      <td>3200</td>\n",
       "      <td>5.303900</td>\n",
       "    </tr>\n",
       "    <tr>\n",
       "      <td>3400</td>\n",
       "      <td>5.271600</td>\n",
       "    </tr>\n",
       "    <tr>\n",
       "      <td>3600</td>\n",
       "      <td>5.249500</td>\n",
       "    </tr>\n",
       "    <tr>\n",
       "      <td>3800</td>\n",
       "      <td>5.234600</td>\n",
       "    </tr>\n",
       "    <tr>\n",
       "      <td>4000</td>\n",
       "      <td>5.193000</td>\n",
       "    </tr>\n",
       "    <tr>\n",
       "      <td>4200</td>\n",
       "      <td>5.176000</td>\n",
       "    </tr>\n",
       "    <tr>\n",
       "      <td>4400</td>\n",
       "      <td>5.159300</td>\n",
       "    </tr>\n",
       "    <tr>\n",
       "      <td>4600</td>\n",
       "      <td>5.170000</td>\n",
       "    </tr>\n",
       "    <tr>\n",
       "      <td>4800</td>\n",
       "      <td>5.143300</td>\n",
       "    </tr>\n",
       "    <tr>\n",
       "      <td>5000</td>\n",
       "      <td>5.096400</td>\n",
       "    </tr>\n",
       "    <tr>\n",
       "      <td>5200</td>\n",
       "      <td>5.082400</td>\n",
       "    </tr>\n",
       "    <tr>\n",
       "      <td>5400</td>\n",
       "      <td>5.067100</td>\n",
       "    </tr>\n",
       "    <tr>\n",
       "      <td>5600</td>\n",
       "      <td>5.059700</td>\n",
       "    </tr>\n",
       "    <tr>\n",
       "      <td>5800</td>\n",
       "      <td>5.032600</td>\n",
       "    </tr>\n",
       "    <tr>\n",
       "      <td>6000</td>\n",
       "      <td>5.013000</td>\n",
       "    </tr>\n",
       "    <tr>\n",
       "      <td>6200</td>\n",
       "      <td>5.007600</td>\n",
       "    </tr>\n",
       "    <tr>\n",
       "      <td>6400</td>\n",
       "      <td>4.991400</td>\n",
       "    </tr>\n",
       "    <tr>\n",
       "      <td>6600</td>\n",
       "      <td>4.970800</td>\n",
       "    </tr>\n",
       "    <tr>\n",
       "      <td>6800</td>\n",
       "      <td>4.958100</td>\n",
       "    </tr>\n",
       "    <tr>\n",
       "      <td>7000</td>\n",
       "      <td>4.945300</td>\n",
       "    </tr>\n",
       "    <tr>\n",
       "      <td>7200</td>\n",
       "      <td>4.914400</td>\n",
       "    </tr>\n",
       "    <tr>\n",
       "      <td>7400</td>\n",
       "      <td>4.948700</td>\n",
       "    </tr>\n",
       "    <tr>\n",
       "      <td>7600</td>\n",
       "      <td>4.936300</td>\n",
       "    </tr>\n",
       "    <tr>\n",
       "      <td>7800</td>\n",
       "      <td>4.920300</td>\n",
       "    </tr>\n",
       "    <tr>\n",
       "      <td>8000</td>\n",
       "      <td>4.893800</td>\n",
       "    </tr>\n",
       "    <tr>\n",
       "      <td>8200</td>\n",
       "      <td>4.887000</td>\n",
       "    </tr>\n",
       "    <tr>\n",
       "      <td>8400</td>\n",
       "      <td>4.901500</td>\n",
       "    </tr>\n",
       "    <tr>\n",
       "      <td>8600</td>\n",
       "      <td>4.863700</td>\n",
       "    </tr>\n",
       "    <tr>\n",
       "      <td>8800</td>\n",
       "      <td>4.853900</td>\n",
       "    </tr>\n",
       "    <tr>\n",
       "      <td>9000</td>\n",
       "      <td>4.845200</td>\n",
       "    </tr>\n",
       "    <tr>\n",
       "      <td>9200</td>\n",
       "      <td>4.820400</td>\n",
       "    </tr>\n",
       "    <tr>\n",
       "      <td>9400</td>\n",
       "      <td>4.809600</td>\n",
       "    </tr>\n",
       "    <tr>\n",
       "      <td>9600</td>\n",
       "      <td>4.798700</td>\n",
       "    </tr>\n",
       "    <tr>\n",
       "      <td>9800</td>\n",
       "      <td>4.790800</td>\n",
       "    </tr>\n",
       "    <tr>\n",
       "      <td>10000</td>\n",
       "      <td>4.796900</td>\n",
       "    </tr>\n",
       "    <tr>\n",
       "      <td>10200</td>\n",
       "      <td>4.761000</td>\n",
       "    </tr>\n",
       "    <tr>\n",
       "      <td>10400</td>\n",
       "      <td>4.747600</td>\n",
       "    </tr>\n",
       "    <tr>\n",
       "      <td>10600</td>\n",
       "      <td>4.755700</td>\n",
       "    </tr>\n",
       "    <tr>\n",
       "      <td>10800</td>\n",
       "      <td>4.745600</td>\n",
       "    </tr>\n",
       "    <tr>\n",
       "      <td>11000</td>\n",
       "      <td>4.736000</td>\n",
       "    </tr>\n",
       "    <tr>\n",
       "      <td>11200</td>\n",
       "      <td>4.731200</td>\n",
       "    </tr>\n",
       "    <tr>\n",
       "      <td>11400</td>\n",
       "      <td>4.697000</td>\n",
       "    </tr>\n",
       "    <tr>\n",
       "      <td>11600</td>\n",
       "      <td>4.707400</td>\n",
       "    </tr>\n",
       "    <tr>\n",
       "      <td>11800</td>\n",
       "      <td>4.708700</td>\n",
       "    </tr>\n",
       "    <tr>\n",
       "      <td>12000</td>\n",
       "      <td>4.691600</td>\n",
       "    </tr>\n",
       "    <tr>\n",
       "      <td>12200</td>\n",
       "      <td>4.709700</td>\n",
       "    </tr>\n",
       "    <tr>\n",
       "      <td>12400</td>\n",
       "      <td>4.698000</td>\n",
       "    </tr>\n",
       "    <tr>\n",
       "      <td>12600</td>\n",
       "      <td>4.677200</td>\n",
       "    </tr>\n",
       "  </tbody>\n",
       "</table><p>"
      ],
      "text/plain": [
       "<IPython.core.display.HTML object>"
      ]
     },
     "metadata": {},
     "output_type": "display_data"
    },
    {
     "name": "stderr",
     "output_type": "stream",
     "text": [
      "Saving model checkpoint to ./GPT2/checkpoint-10000\n",
      "Configuration saved in ./GPT2/checkpoint-10000/config.json\n",
      "Model weights saved in ./GPT2/checkpoint-10000/pytorch_model.bin\n"
     ]
    },
    {
     "ename": "KeyboardInterrupt",
     "evalue": "",
     "output_type": "error",
     "traceback": [
      "\u001b[0;31m---------------------------------------------------------------------------\u001b[0m",
      "\u001b[0;31mKeyboardInterrupt\u001b[0m                         Traceback (most recent call last)",
      "\u001b[0;32m<ipython-input-16-3435b262f1ae>\u001b[0m in \u001b[0;36m<module>\u001b[0;34m\u001b[0m\n\u001b[0;32m----> 1\u001b[0;31m \u001b[0mtrainer\u001b[0m\u001b[0;34m.\u001b[0m\u001b[0mtrain\u001b[0m\u001b[0;34m(\u001b[0m\u001b[0;34m)\u001b[0m\u001b[0;34m\u001b[0m\u001b[0;34m\u001b[0m\u001b[0m\n\u001b[0m",
      "\u001b[0;32m~/anaconda3/lib/python3.8/site-packages/transformers/trainer.py\u001b[0m in \u001b[0;36mtrain\u001b[0;34m(self, resume_from_checkpoint, trial, ignore_keys_for_eval, **kwargs)\u001b[0m\n\u001b[1;32m   1330\u001b[0m                         \u001b[0mtr_loss_step\u001b[0m \u001b[0;34m=\u001b[0m \u001b[0mself\u001b[0m\u001b[0;34m.\u001b[0m\u001b[0mtraining_step\u001b[0m\u001b[0;34m(\u001b[0m\u001b[0mmodel\u001b[0m\u001b[0;34m,\u001b[0m \u001b[0minputs\u001b[0m\u001b[0;34m)\u001b[0m\u001b[0;34m\u001b[0m\u001b[0;34m\u001b[0m\u001b[0m\n\u001b[1;32m   1331\u001b[0m                 \u001b[0;32melse\u001b[0m\u001b[0;34m:\u001b[0m\u001b[0;34m\u001b[0m\u001b[0;34m\u001b[0m\u001b[0m\n\u001b[0;32m-> 1332\u001b[0;31m                     \u001b[0mtr_loss_step\u001b[0m \u001b[0;34m=\u001b[0m \u001b[0mself\u001b[0m\u001b[0;34m.\u001b[0m\u001b[0mtraining_step\u001b[0m\u001b[0;34m(\u001b[0m\u001b[0mmodel\u001b[0m\u001b[0;34m,\u001b[0m \u001b[0minputs\u001b[0m\u001b[0;34m)\u001b[0m\u001b[0;34m\u001b[0m\u001b[0;34m\u001b[0m\u001b[0m\n\u001b[0m\u001b[1;32m   1333\u001b[0m \u001b[0;34m\u001b[0m\u001b[0m\n\u001b[1;32m   1334\u001b[0m                 if (\n",
      "\u001b[0;32m~/anaconda3/lib/python3.8/site-packages/transformers/trainer.py\u001b[0m in \u001b[0;36mtraining_step\u001b[0;34m(self, model, inputs)\u001b[0m\n\u001b[1;32m   1907\u001b[0m             \u001b[0mloss\u001b[0m \u001b[0;34m=\u001b[0m \u001b[0mself\u001b[0m\u001b[0;34m.\u001b[0m\u001b[0mdeepspeed\u001b[0m\u001b[0;34m.\u001b[0m\u001b[0mbackward\u001b[0m\u001b[0;34m(\u001b[0m\u001b[0mloss\u001b[0m\u001b[0;34m)\u001b[0m\u001b[0;34m\u001b[0m\u001b[0;34m\u001b[0m\u001b[0m\n\u001b[1;32m   1908\u001b[0m         \u001b[0;32melse\u001b[0m\u001b[0;34m:\u001b[0m\u001b[0;34m\u001b[0m\u001b[0;34m\u001b[0m\u001b[0m\n\u001b[0;32m-> 1909\u001b[0;31m             \u001b[0mloss\u001b[0m\u001b[0;34m.\u001b[0m\u001b[0mbackward\u001b[0m\u001b[0;34m(\u001b[0m\u001b[0;34m)\u001b[0m\u001b[0;34m\u001b[0m\u001b[0;34m\u001b[0m\u001b[0m\n\u001b[0m\u001b[1;32m   1910\u001b[0m \u001b[0;34m\u001b[0m\u001b[0m\n\u001b[1;32m   1911\u001b[0m         \u001b[0;32mreturn\u001b[0m \u001b[0mloss\u001b[0m\u001b[0;34m.\u001b[0m\u001b[0mdetach\u001b[0m\u001b[0;34m(\u001b[0m\u001b[0;34m)\u001b[0m\u001b[0;34m\u001b[0m\u001b[0;34m\u001b[0m\u001b[0m\n",
      "\u001b[0;32m~/anaconda3/lib/python3.8/site-packages/torch/_tensor.py\u001b[0m in \u001b[0;36mbackward\u001b[0;34m(self, gradient, retain_graph, create_graph, inputs)\u001b[0m\n\u001b[1;32m    305\u001b[0m                 \u001b[0mcreate_graph\u001b[0m\u001b[0;34m=\u001b[0m\u001b[0mcreate_graph\u001b[0m\u001b[0;34m,\u001b[0m\u001b[0;34m\u001b[0m\u001b[0;34m\u001b[0m\u001b[0m\n\u001b[1;32m    306\u001b[0m                 inputs=inputs)\n\u001b[0;32m--> 307\u001b[0;31m         \u001b[0mtorch\u001b[0m\u001b[0;34m.\u001b[0m\u001b[0mautograd\u001b[0m\u001b[0;34m.\u001b[0m\u001b[0mbackward\u001b[0m\u001b[0;34m(\u001b[0m\u001b[0mself\u001b[0m\u001b[0;34m,\u001b[0m \u001b[0mgradient\u001b[0m\u001b[0;34m,\u001b[0m \u001b[0mretain_graph\u001b[0m\u001b[0;34m,\u001b[0m \u001b[0mcreate_graph\u001b[0m\u001b[0;34m,\u001b[0m \u001b[0minputs\u001b[0m\u001b[0;34m=\u001b[0m\u001b[0minputs\u001b[0m\u001b[0;34m)\u001b[0m\u001b[0;34m\u001b[0m\u001b[0;34m\u001b[0m\u001b[0m\n\u001b[0m\u001b[1;32m    308\u001b[0m \u001b[0;34m\u001b[0m\u001b[0m\n\u001b[1;32m    309\u001b[0m     \u001b[0;32mdef\u001b[0m \u001b[0mregister_hook\u001b[0m\u001b[0;34m(\u001b[0m\u001b[0mself\u001b[0m\u001b[0;34m,\u001b[0m \u001b[0mhook\u001b[0m\u001b[0;34m)\u001b[0m\u001b[0;34m:\u001b[0m\u001b[0;34m\u001b[0m\u001b[0;34m\u001b[0m\u001b[0m\n",
      "\u001b[0;32m~/anaconda3/lib/python3.8/site-packages/torch/autograd/__init__.py\u001b[0m in \u001b[0;36mbackward\u001b[0;34m(tensors, grad_tensors, retain_graph, create_graph, grad_variables, inputs)\u001b[0m\n\u001b[1;32m    152\u001b[0m         \u001b[0mretain_graph\u001b[0m \u001b[0;34m=\u001b[0m \u001b[0mcreate_graph\u001b[0m\u001b[0;34m\u001b[0m\u001b[0;34m\u001b[0m\u001b[0m\n\u001b[1;32m    153\u001b[0m \u001b[0;34m\u001b[0m\u001b[0m\n\u001b[0;32m--> 154\u001b[0;31m     Variable._execution_engine.run_backward(\n\u001b[0m\u001b[1;32m    155\u001b[0m         \u001b[0mtensors\u001b[0m\u001b[0;34m,\u001b[0m \u001b[0mgrad_tensors_\u001b[0m\u001b[0;34m,\u001b[0m \u001b[0mretain_graph\u001b[0m\u001b[0;34m,\u001b[0m \u001b[0mcreate_graph\u001b[0m\u001b[0;34m,\u001b[0m \u001b[0minputs\u001b[0m\u001b[0;34m,\u001b[0m\u001b[0;34m\u001b[0m\u001b[0;34m\u001b[0m\u001b[0m\n\u001b[1;32m    156\u001b[0m         allow_unreachable=True, accumulate_grad=True)  # allow_unreachable flag\n",
      "\u001b[0;31mKeyboardInterrupt\u001b[0m: "
     ]
    }
   ],
   "source": [
    "trainer.train()"
   ]
  }
 ],
 "metadata": {
  "kernelspec": {
   "display_name": "Python 3",
   "language": "python",
   "name": "python3"
  },
  "language_info": {
   "codemirror_mode": {
    "name": "ipython",
    "version": 3
   },
   "file_extension": ".py",
   "mimetype": "text/x-python",
   "name": "python",
   "nbconvert_exporter": "python",
   "pygments_lexer": "ipython3",
   "version": "3.8.8"
  }
 },
 "nbformat": 4,
 "nbformat_minor": 5
}
