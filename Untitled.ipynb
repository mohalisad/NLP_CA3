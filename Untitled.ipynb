{
 "cells": [
  {
   "cell_type": "code",
   "execution_count": 1,
   "id": "07b4aa7a-6947-4ab8-aaa3-519ad9995446",
   "metadata": {},
   "outputs": [
    {
     "name": "stdout",
     "output_type": "stream",
     "text": [
      "Requirement already satisfied: transformers in /home/mohalisad/anaconda3/lib/python3.8/site-packages (4.15.0)\n",
      "Requirement already satisfied: accelerate in /home/mohalisad/anaconda3/lib/python3.8/site-packages (0.5.1)\n",
      "Requirement already satisfied: tokenizers in /home/mohalisad/anaconda3/lib/python3.8/site-packages (0.10.3)\n",
      "Requirement already satisfied: numpy>=1.17 in /home/mohalisad/anaconda3/lib/python3.8/site-packages (from accelerate) (1.20.1)\n",
      "Requirement already satisfied: pyyaml in /home/mohalisad/anaconda3/lib/python3.8/site-packages (from accelerate) (5.4.1)\n",
      "Requirement already satisfied: torch>=1.4.0 in /home/mohalisad/anaconda3/lib/python3.8/site-packages (from accelerate) (1.10.0+cu113)\n",
      "Requirement already satisfied: typing-extensions in /home/mohalisad/anaconda3/lib/python3.8/site-packages (from torch>=1.4.0->accelerate) (3.7.4.3)\n",
      "Requirement already satisfied: packaging>=20.0 in /home/mohalisad/anaconda3/lib/python3.8/site-packages (from transformers) (20.9)\n",
      "Requirement already satisfied: tqdm>=4.27 in /home/mohalisad/anaconda3/lib/python3.8/site-packages (from transformers) (4.59.0)\n",
      "Requirement already satisfied: regex!=2019.12.17 in /home/mohalisad/anaconda3/lib/python3.8/site-packages (from transformers) (2021.4.4)\n",
      "Requirement already satisfied: sacremoses in /home/mohalisad/anaconda3/lib/python3.8/site-packages (from transformers) (0.0.46)\n",
      "Requirement already satisfied: requests in /home/mohalisad/anaconda3/lib/python3.8/site-packages (from transformers) (2.25.1)\n",
      "Requirement already satisfied: huggingface-hub<1.0,>=0.1.0 in /home/mohalisad/anaconda3/lib/python3.8/site-packages (from transformers) (0.2.1)\n",
      "Requirement already satisfied: filelock in /home/mohalisad/anaconda3/lib/python3.8/site-packages (from transformers) (3.0.12)\n",
      "Requirement already satisfied: pyparsing>=2.0.2 in /home/mohalisad/anaconda3/lib/python3.8/site-packages (from packaging>=20.0->transformers) (2.4.7)\n",
      "Requirement already satisfied: idna<3,>=2.5 in /home/mohalisad/anaconda3/lib/python3.8/site-packages (from requests->transformers) (2.10)\n",
      "Requirement already satisfied: urllib3<1.27,>=1.21.1 in /home/mohalisad/anaconda3/lib/python3.8/site-packages (from requests->transformers) (1.26.4)\n",
      "Requirement already satisfied: certifi>=2017.4.17 in /home/mohalisad/anaconda3/lib/python3.8/site-packages (from requests->transformers) (2020.12.5)\n",
      "Requirement already satisfied: chardet<5,>=3.0.2 in /home/mohalisad/anaconda3/lib/python3.8/site-packages (from requests->transformers) (4.0.0)\n",
      "Requirement already satisfied: joblib in /home/mohalisad/anaconda3/lib/python3.8/site-packages (from sacremoses->transformers) (1.0.1)\n",
      "Requirement already satisfied: click in /home/mohalisad/anaconda3/lib/python3.8/site-packages (from sacremoses->transformers) (7.1.2)\n",
      "Requirement already satisfied: six in /home/mohalisad/anaconda3/lib/python3.8/site-packages (from sacremoses->transformers) (1.15.0)\n",
      "Note: you may need to restart the kernel to use updated packages.\n"
     ]
    }
   ],
   "source": [
    "pip install transformers accelerate tokenizers"
   ]
  },
  {
   "cell_type": "code",
   "execution_count": 2,
   "id": "5e4bb66e-75af-4714-8c17-83c8e4ae1caf",
   "metadata": {},
   "outputs": [
    {
     "name": "stdout",
     "output_type": "stream",
     "text": [
      "Tue Dec 28 14:29:56 2021       \n",
      "+-----------------------------------------------------------------------------+\n",
      "| NVIDIA-SMI 495.29.05    Driver Version: 495.29.05    CUDA Version: 11.5     |\n",
      "|-------------------------------+----------------------+----------------------+\n",
      "| GPU  Name        Persistence-M| Bus-Id        Disp.A | Volatile Uncorr. ECC |\n",
      "| Fan  Temp  Perf  Pwr:Usage/Cap|         Memory-Usage | GPU-Util  Compute M. |\n",
      "|                               |                      |               MIG M. |\n",
      "|===============================+======================+======================|\n",
      "|   0  NVIDIA GeForce ...  Off  | 00000000:01:00.0 Off |                  N/A |\n",
      "|  0%   42C    P5    22W / 200W |      0MiB /  8116MiB |      2%      Default |\n",
      "|                               |                      |                  N/A |\n",
      "+-------------------------------+----------------------+----------------------+\n",
      "                                                                               \n",
      "+-----------------------------------------------------------------------------+\n",
      "| Processes:                                                                  |\n",
      "|  GPU   GI   CI        PID   Type   Process name                  GPU Memory |\n",
      "|        ID   ID                                                   Usage      |\n",
      "|=============================================================================|\n",
      "|  No running processes found                                                 |\n",
      "+-----------------------------------------------------------------------------+\n"
     ]
    }
   ],
   "source": [
    "!nvidia-smi"
   ]
  },
  {
   "cell_type": "code",
   "execution_count": 3,
   "id": "7f9905bb-37f5-43f0-9da6-765770cd4369",
   "metadata": {},
   "outputs": [
    {
     "data": {
      "text/plain": [
       "True"
      ]
     },
     "execution_count": 3,
     "metadata": {},
     "output_type": "execute_result"
    }
   ],
   "source": [
    "import torch\n",
    "torch.cuda.is_available()"
   ]
  },
  {
   "cell_type": "code",
   "execution_count": 4,
   "id": "6e04e2f5-40b9-4a5f-959d-ee741f7318a5",
   "metadata": {},
   "outputs": [
    {
     "ename": "NameError",
     "evalue": "name 'tokenizers' is not defined",
     "output_type": "error",
     "traceback": [
      "\u001b[0;31m---------------------------------------------------------------------------\u001b[0m",
      "\u001b[0;31mNameError\u001b[0m                                 Traceback (most recent call last)",
      "\u001b[0;32m<ipython-input-4-8c998b3567bb>\u001b[0m in \u001b[0;36m<module>\u001b[0;34m\u001b[0m\n\u001b[0;32m----> 1\u001b[0;31m \u001b[0mtokenizers\u001b[0m\u001b[0;34m.\u001b[0m\u001b[0mmodels\u001b[0m\u001b[0;34m.\u001b[0m\u001b[0mWordLevel\u001b[0m\u001b[0;34m\u001b[0m\u001b[0;34m\u001b[0m\u001b[0m\n\u001b[0m",
      "\u001b[0;31mNameError\u001b[0m: name 'tokenizers' is not defined"
     ]
    }
   ],
   "source": [
    "\n",
    "tokenizers.models.WordLevel"
   ]
  },
  {
   "cell_type": "code",
   "execution_count": 16,
   "id": "f7c74a1c-2b22-4750-936a-56148f0bfcb3",
   "metadata": {},
   "outputs": [],
   "source": [
    "from tokenizers import Tokenizer\n",
    "from tokenizers.pre_tokenizers import Whitespace\n",
    "from tokenizers.models import WordLevel\n",
    "from tokenizers.trainers import WordLevelTrainer\n",
    "\n",
    "tokenizer = Tokenizer(WordLevel(unk_token=\"<UNK>\"))\n",
    "tokenizer.pre_tokenizer = Whitespace()\n",
    "trainer = WordLevelTrainer(vocab_size=30000, min_frequency=0, special_tokens=[\"<UNK>\"])"
   ]
  },
  {
   "cell_type": "code",
   "execution_count": 17,
   "id": "65f5a2c3-9c44-43e8-81a9-ed8cdd1de1ca",
   "metadata": {},
   "outputs": [],
   "source": [
    "tokenizer.train(['./cultural.txt'], trainer)"
   ]
  },
  {
   "cell_type": "code",
   "execution_count": null,
   "id": "ebd49d31-4260-4965-9982-c230ee98c516",
   "metadata": {},
   "outputs": [],
   "source": [
    "print(tokenizer.)"
   ]
  },
  {
   "cell_type": "code",
   "execution_count": 21,
   "id": "78f90f4b-207f-4f42-938c-ad27b7877b28",
   "metadata": {},
   "outputs": [],
   "source": [
    "sample_text = \"سلام حالت چطور است!\"\n",
    "encoded = tokenizer.encode(sample_text)"
   ]
  },
  {
   "cell_type": "code",
   "execution_count": 22,
   "id": "5d9b4558-7204-46b9-8cf7-6b1f317ddc16",
   "metadata": {},
   "outputs": [
    {
     "name": "stdout",
     "output_type": "stream",
     "text": [
      "['سلام', 'حالت', 'چطور', 'است', '!']\n"
     ]
    }
   ],
   "source": [
    "print(encoded.tokens)"
   ]
  },
  {
   "cell_type": "code",
   "execution_count": null,
   "id": "acb0da08-4747-4ff5-8021-0fa3f98b9d5d",
   "metadata": {},
   "outputs": [],
   "source": [
    "from transformers import GPT2Config\n",
    "from transformers import GPT2Model\n",
    "\n",
    "config = GPT2Config()\n",
    "model = GPT2Model(config=config)"
   ]
  },
  {
   "cell_type": "code",
   "execution_count": null,
   "id": "b160df9b-0c9f-474d-92a8-ae8ce5cba571",
   "metadata": {},
   "outputs": [],
   "source": [
    "type(model)"
   ]
  },
  {
   "cell_type": "code",
   "execution_count": null,
   "id": "ce88c960-99e7-4bd3-b899-626aed9e2011",
   "metadata": {},
   "outputs": [],
   "source": [
    "model.num_parameters()"
   ]
  }
 ],
 "metadata": {
  "kernelspec": {
   "display_name": "Python 3",
   "language": "python",
   "name": "python3"
  },
  "language_info": {
   "codemirror_mode": {
    "name": "ipython",
    "version": 3
   },
   "file_extension": ".py",
   "mimetype": "text/x-python",
   "name": "python",
   "nbconvert_exporter": "python",
   "pygments_lexer": "ipython3",
   "version": "3.8.8"
  }
 },
 "nbformat": 4,
 "nbformat_minor": 5
}
